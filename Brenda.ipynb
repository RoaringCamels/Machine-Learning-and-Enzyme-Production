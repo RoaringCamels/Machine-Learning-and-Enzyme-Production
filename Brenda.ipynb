{
 "cells": [
  {
   "cell_type": "code",
   "execution_count": 33,
   "metadata": {},
   "outputs": [],
   "source": [
    "import numpy as np\n",
    "from matplotlib import pyplot as plt\n",
    "from brendapyrser import BRENDA\n",
    "\n",
    "\n",
    "dataFile = 'brenda_2023_1.txt'"
   ]
  },
  {
   "cell_type": "code",
   "execution_count": 34,
   "metadata": {},
   "outputs": [
    {
     "data": {
      "text/html": [
       "\n",
       "        <table>\n",
       "            <tr>\n",
       "                <td><strong>Number of Enzymes</strong></td><td>7832</td>\n",
       "            </tr><tr>\n",
       "                <td><strong>BRENDA copyright</strong></td><td>Copyrighted by Dietmar Schomburg, Techn. University\n",
       "        Braunschweig, GERMANY. Distributed under the License as stated\n",
       "        at http:/www.brenda-enzymes.org</td>\n",
       "            </tr><tr>\n",
       "                <td><strong>Parser version</strong></td><td>0.0.1</td>\n",
       "            </tr><tr>\n",
       "                <td><strong>Author</strong></td><td>Semidán Robaina Estévez, 2020</td>\n",
       "            </tr>\n",
       "        </table>\n",
       "        "
      ],
      "text/plain": [
       "<brendapyrser.parser.BRENDA at 0x20522f9b4f0>"
      ]
     },
     "execution_count": 34,
     "metadata": {},
     "output_type": "execute_result"
    }
   ],
   "source": [
    "# Let's load the database\n",
    "brenda = BRENDA(dataFile)\n",
    "brenda"
   ]
  },
  {
   "cell_type": "code",
   "execution_count": 35,
   "metadata": {},
   "outputs": [
    {
     "data": {
      "image/png": "[encoded data removed]",
      "text/plain": [
       "<Figure size 640x480 with 1 Axes>"
      ]
     },
     "metadata": {},
     "output_type": "display_data"
    },
    {
     "name": "stdout",
     "output_type": "stream",
     "text": [
      "Minimum and maximum values in database: 0.0 °C, 125.0 °C\n"
     ]
    }
   ],
   "source": [
    "# Plot all enzyme optimal temperature values in the database\n",
    "BRENDA_TO = np.array([v for r in brenda.reactions \n",
    "                       for v in r.temperature.filter_by_condition(\n",
    "                           'optimum').get_values()])\n",
    "values = BRENDA_TO[(BRENDA_TO >= 0)]\n",
    "plt.hist(values)\n",
    "plt.title(f'Median Optimum Temperature: {np.median(values)}')\n",
    "plt.xlabel('TO (${}^oC$)')\n",
    "plt.show()\n",
    "print(f'Minimum and maximum values in database: {values.min()} °C, {values.max()} °C')"
   ]
  },
  {
   "cell_type": "code",
   "execution_count": 36,
   "metadata": {},
   "outputs": [],
   "source": [
    "BRENDA_KMs = np.array([v for r in brenda.reactions \n",
    "                       for v in r.KMvalues.get_values()])\n",
    "values1 = BRENDA_KMs[(BRENDA_KMs < 1000) & (BRENDA_KMs >= 0)]\n",
    "\n",
    "BRENDA_Kcats = np.array([v for r in brenda.reactions \n",
    "                       for v in r.Kcatvalues.get_values()])\n",
    "values2 = BRENDA_Kcats[(BRENDA_Kcats < 1000) & (BRENDA_Kcats >= 0)]\n",
    "\n",
    "BRENDA_TO = np.array([v for r in brenda.reactions \n",
    "                       for v in r.temperature.filter_by_condition(\n",
    "                           'optimum').get_values()])\n",
    "values3 = BRENDA_TO[(BRENDA_TO >= 0)]"
   ]
  },
  {
   "cell_type": "code",
   "execution_count": 37,
   "metadata": {},
   "outputs": [],
   "source": [
    "import pandas as pd\n",
    "import numpy as np\n",
    "import matplotlib.pyplot as plt\n",
    "import matplotlib.dates as mdates\n",
    "import seaborn as sns\n",
    "import warnings\n",
    "from math import exp\n",
    "from scipy import stats\n",
    "from sklearn.model_selection import train_test_split\n",
    "from sklearn.linear_model import LogisticRegression\n",
    "from sklearn.preprocessing import scale\n",
    "from sklearn import preprocessing\n",
    "from sklearn.metrics import accuracy_score, classification_report, confusion_matrix\n",
    "\n",
    "df = pd.DataFrame()"
   ]
  },
  {
   "cell_type": "code",
   "execution_count": 38,
   "metadata": {},
   "outputs": [
    {
     "name": "stdout",
     "output_type": "stream",
     "text": [
      "        Median Km  Median Kcat  Median Optimum Temp\n",
      "0         0.05000        0.833                 83.0\n",
      "1         1.40000       48.800                 80.0\n",
      "2         0.12000        3.100                 47.5\n",
      "3         3.80000       15.100                 27.5\n",
      "4        34.00000        0.004                 40.0\n",
      "...           ...          ...                  ...\n",
      "176273    0.06080          NaN                  NaN\n",
      "176274    0.08340          NaN                  NaN\n",
      "176275    0.09190          NaN                  NaN\n",
      "176276    0.00832          NaN                  NaN\n",
      "176277    0.00941          NaN                  NaN\n",
      "\n",
      "[176278 rows x 3 columns]\n"
     ]
    }
   ],
   "source": [
    "df['Median Km'] = pd.Series(values1.tolist())\n",
    "df['Median Kcat'] = pd.Series(values2.tolist())\n",
    "df['Median Optimum Temp'] = pd.Series(values3.tolist())\n",
    "print(df)"
   ]
  },
  {
   "cell_type": "code",
   "execution_count": 39,
   "metadata": {},
   "outputs": [
    {
     "name": "stdout",
     "output_type": "stream",
     "text": [
      "       Median Km  Median Kcat  Median Optimum Temp\n",
      "0           0.05        0.833                 83.0\n",
      "1           1.40       48.800                 80.0\n",
      "2           0.12        3.100                 47.5\n",
      "3           3.80       15.100                 27.5\n",
      "4          34.00        0.004                 40.0\n",
      "...          ...          ...                  ...\n",
      "15546       1.50      136.300                 22.0\n",
      "15547      48.00        0.270                 37.0\n",
      "15548      54.00       27.300                 30.0\n",
      "15549     110.00       21.200                 20.0\n",
      "15550       0.05        0.100                 22.0\n",
      "\n",
      "[15551 rows x 3 columns]\n"
     ]
    }
   ],
   "source": [
    "df.dropna(inplace = True)\n",
    "print(df)"
   ]
  },
  {
   "cell_type": "code",
   "execution_count": 40,
   "metadata": {},
   "outputs": [],
   "source": [
    "output_path = 'output.csv'\n",
    "df.to_csv(output_path, index = False)"
   ]
  },
  {
   "cell_type": "code",
   "execution_count": 41,
   "metadata": {},
   "outputs": [
    {
     "name": "stdout",
     "output_type": "stream",
     "text": [
      "<class 'pandas.core.frame.DataFrame'>\n",
      "Index: 15551 entries, 0 to 15550\n",
      "Data columns (total 3 columns):\n",
      " #   Column               Non-Null Count  Dtype  \n",
      "---  ------               --------------  -----  \n",
      " 0   Median Km            15551 non-null  float64\n",
      " 1   Median Kcat          15551 non-null  float64\n",
      " 2   Median Optimum Temp  15551 non-null  float64\n",
      "dtypes: float64(3)\n",
      "memory usage: 486.0 KB\n"
     ]
    }
   ],
   "source": [
    "df.info()"
   ]
  },
  {
   "cell_type": "code",
   "execution_count": null,
   "metadata": {},
   "outputs": [],
   "source": []
  }
 ],
 "metadata": {
  "kernelspec": {
   "display_name": "Python 3",
   "language": "python",
   "name": "python3"
  },
  "language_info": {
   "codemirror_mode": {
    "name": "ipython",
    "version": 3
   },
   "file_extension": ".py",
   "mimetype": "text/x-python",
   "name": "python",
   "nbconvert_exporter": "python",
   "pygments_lexer": "ipython3",
   "version": "3.9.5"
  },
  "orig_nbformat": 4
 },
 "nbformat": 4,
 "nbformat_minor": 2
}
